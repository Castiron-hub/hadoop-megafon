{
 "cells": [
  {
   "cell_type": "markdown",
   "metadata": {},
   "source": [
    "## Workshop\n",
    "Вы - дата инженер, которому поручили проанализировать данные игр за последние несколько десятков лет. На входе у вас JSON файл. Изучите его и выполните задачи ниже."
   ]
  },
  {
   "cell_type": "code",
   "execution_count": 1,
   "metadata": {},
   "outputs": [
    {
     "name": "stdout",
     "output_type": "stream",
     "text": [
      "root\n",
      " |-- _id: struct (nullable = true)\n",
      " |    |-- $oid: string (nullable = true)\n",
      " |-- date: struct (nullable = true)\n",
      " |    |-- $date: string (nullable = true)\n",
      " |-- teams: array (nullable = true)\n",
      " |    |-- element: struct (containsNull = true)\n",
      " |    |    |-- abbreviation: string (nullable = true)\n",
      " |    |    |-- city: string (nullable = true)\n",
      " |    |    |-- home: boolean (nullable = true)\n",
      " |    |    |-- name: string (nullable = true)\n",
      " |    |    |-- players: array (nullable = true)\n",
      " |    |    |    |-- element: struct (containsNull = true)\n",
      " |    |    |    |    |-- ast: long (nullable = true)\n",
      " |    |    |    |    |-- blk: long (nullable = true)\n",
      " |    |    |    |    |-- drb: long (nullable = true)\n",
      " |    |    |    |    |-- fg: long (nullable = true)\n",
      " |    |    |    |    |-- fg3: long (nullable = true)\n",
      " |    |    |    |    |-- fg3_pct: string (nullable = true)\n",
      " |    |    |    |    |-- fg3a: long (nullable = true)\n",
      " |    |    |    |    |-- fg_pct: string (nullable = true)\n",
      " |    |    |    |    |-- fga: long (nullable = true)\n",
      " |    |    |    |    |-- ft: long (nullable = true)\n",
      " |    |    |    |    |-- ft_pct: string (nullable = true)\n",
      " |    |    |    |    |-- fta: long (nullable = true)\n",
      " |    |    |    |    |-- mp: string (nullable = true)\n",
      " |    |    |    |    |-- orb: long (nullable = true)\n",
      " |    |    |    |    |-- pf: long (nullable = true)\n",
      " |    |    |    |    |-- player: string (nullable = true)\n",
      " |    |    |    |    |-- plus_minus: string (nullable = true)\n",
      " |    |    |    |    |-- pts: long (nullable = true)\n",
      " |    |    |    |    |-- stl: long (nullable = true)\n",
      " |    |    |    |    |-- tov: long (nullable = true)\n",
      " |    |    |    |    |-- trb: long (nullable = true)\n",
      " |    |    |-- results: struct (nullable = true)\n",
      " |    |    |    |-- ast: long (nullable = true)\n",
      " |    |    |    |-- blk: long (nullable = true)\n",
      " |    |    |    |-- drb: long (nullable = true)\n",
      " |    |    |    |-- fg: long (nullable = true)\n",
      " |    |    |    |-- fg3: long (nullable = true)\n",
      " |    |    |    |-- fg3_pct: string (nullable = true)\n",
      " |    |    |    |-- fg3a: long (nullable = true)\n",
      " |    |    |    |-- fg_pct: string (nullable = true)\n",
      " |    |    |    |-- fga: long (nullable = true)\n",
      " |    |    |    |-- ft: long (nullable = true)\n",
      " |    |    |    |-- ft_pct: string (nullable = true)\n",
      " |    |    |    |-- fta: long (nullable = true)\n",
      " |    |    |    |-- mp: long (nullable = true)\n",
      " |    |    |    |-- orb: long (nullable = true)\n",
      " |    |    |    |-- pf: long (nullable = true)\n",
      " |    |    |    |-- plus_minus: string (nullable = true)\n",
      " |    |    |    |-- pts: long (nullable = true)\n",
      " |    |    |    |-- stl: long (nullable = true)\n",
      " |    |    |    |-- tov: long (nullable = true)\n",
      " |    |    |    |-- trb: long (nullable = true)\n",
      " |    |    |-- score: long (nullable = true)\n",
      " |    |    |-- won: long (nullable = true)\n",
      "\n"
     ]
    }
   ],
   "source": [
    "# Этот код поможет вам понять, с какими данными вы имеете дело\n",
    "\n",
    "from pyspark.sql.functions import *\n",
    "\n",
    "data_file = 'hdfs:///data/spark_excercise/nbagames.json'\n",
    "df = spark.read.json(data_file)\n",
    "\n",
    "df.printSchema()"
   ]
  },
  {
   "cell_type": "code",
   "execution_count": 2,
   "metadata": {},
   "outputs": [
    {
     "name": "stdout",
     "output_type": "stream",
     "text": [
      "+--------------------+--------------------+--------------------+\n",
      "|                  id|                date|                team|\n",
      "+--------------------+--------------------+--------------------+\n",
      "|52f29f91ddbd75540...|1985-10-25T04:00:...|[WSB, Washington,...|\n",
      "+--------------------+--------------------+--------------------+\n",
      "only showing top 1 row\n",
      "\n"
     ]
    }
   ],
   "source": [
    "# Explode - очень полезная функция. Она позволяет \"взорвать\" колонку с массивом данных, как бы развернув его\n",
    "# на 90 градусов\n",
    "\n",
    "clean = \\\n",
    "    df \\\n",
    "    .select(\n",
    "        col(\"_id.$oid\").alias(\"id\"),\n",
    "        col(\"date.$date\").alias(\"date\"),\n",
    "        explode(\"teams\").alias(\"team\")\n",
    "    )\n",
    "\n",
    "clean.show(1)"
   ]
  },
  {
   "cell_type": "markdown",
   "metadata": {},
   "source": [
    "### 1. Убедитесь, что у разных игр нет одинаковых ID\n",
    "**Подсказка**\n",
    "+ для этого нам нужно обратно сгруппировать массив clean, либо можно использовать оригинальные данные\n",
    "+ результатом этого куска кода должно быть True, если все ключи уникальные и False в противном случае\n",
    "+ когда вы работаете со структурами, вы можете вызывать метод ```col()``` для выбора колонок внутри структур, например так: ```col(\"foo.bar\")```"
   ]
  },
  {
   "cell_type": "code",
   "execution_count": 3,
   "metadata": {},
   "outputs": [
    {
     "data": {
      "text/plain": [
       "True"
      ]
     },
     "execution_count": 3,
     "metadata": {},
     "output_type": "execute_result"
    }
   ],
   "source": [
    "df.groupBy('_id').count().filter(col('count') > 1).count() == 0"
   ]
  },
  {
   "cell_type": "markdown",
   "metadata": {},
   "source": [
    "### 2. А теперь давайте посмотрим, за какой период здесь представлены игры\n",
    "**Подсказка**\n",
    "+ вам необходимо получить DF, содержащий одну строку с двумя полями - минимальный год и максимальный год\n",
    "+ для работы с датой следует использовать pyspark.sql.functions - там хватает функций для работы со временем :)\n",
    "+ а вот для получения timestamp из строки, если это необходимо, можно воспользоваться приведением типов (функция cast)"
   ]
  },
  {
   "cell_type": "code",
   "execution_count": 9,
   "metadata": {
    "collapsed": true
   },
   "outputs": [],
   "source": [
    "import pyspark.sql.functions as f"
   ]
  },
  {
   "cell_type": "code",
   "execution_count": 20,
   "metadata": {},
   "outputs": [
    {
     "name": "stdout",
     "output_type": "stream",
     "text": [
      "+--------+--------+\n",
      "|max_date|min_date|\n",
      "+--------+--------+\n",
      "|    2013|    1985|\n",
      "+--------+--------+\n",
      "\n"
     ]
    }
   ],
   "source": [
    "df.select(f.year(col(\"date.$date\")).alias(\"date\"))\\\n",
    "  .select(f.max(col('date')).alias(\"max_date\"), f.min(col('date')).alias(\"min_date\"))\\\n",
    "  .show(1)"
   ]
  },
  {
   "cell_type": "markdown",
   "metadata": {},
   "source": [
    "### 3. Отлично, с периодом разобрались - теперь постройте таблицу, в которой будет количество сыгранных игр за каждый год, отсортировав вывод по возрастанию года\n",
    "**Подсказка**\n",
    "+ Есть два варианта, чтобы добавить новую колонку к таблице:\n",
    "  - ```df.withColumn(\"new_col\", new_col)```\n",
    "  - ```df.select(col(\"*\"), new_col.alias(\"new_col\")```\n",
    "+ Но также вы можете добавлять новые колонки прямо в группировках: ```df.groupBy(new_col.alias(\"new_col\"))```"
   ]
  },
  {
   "cell_type": "code",
   "execution_count": 26,
   "metadata": {},
   "outputs": [
    {
     "name": "stdout",
     "output_type": "stream",
     "text": [
      "+----+-----+\n",
      "|year|count|\n",
      "+----+-----+\n",
      "|1985|  364|\n",
      "|1986|  911|\n",
      "|1987|  910|\n",
      "|1988|  984|\n",
      "|1989| 1059|\n",
      "+----+-----+\n",
      "only showing top 5 rows\n",
      "\n"
     ]
    }
   ],
   "source": [
    "df.select(col(\"*\"), f.year(col(\"date.$date\")).alias('year'))\\\n",
    "  .groupBy('year').count().sort('year').show(5)"
   ]
  },
  {
   "cell_type": "markdown",
   "metadata": {},
   "source": [
    "### 4. Получилось? Супер! Теперь давайте найдем команду, которая в 2013 году выиграла большев всего игр\n",
    "**Подсказка**\n",
    "+ команды идентифицируются полем \"abbreviation\"\n",
    "+ Результат игры хранится в поле \"won\"\n",
    "+ внутри ```filter()``` тоже можно создавать колонки\n",
    "+ ограничить вывод можно не только параметров функции ```show()```, но и применив метод ```limit()```"
   ]
  },
  {
   "cell_type": "code",
   "execution_count": 66,
   "metadata": {},
   "outputs": [
    {
     "name": "stdout",
     "output_type": "stream",
     "text": [
      "+------------+--------+\n",
      "|abbreviation|sum_wins|\n",
      "+------------+--------+\n",
      "|         MIA|      45|\n",
      "+------------+--------+\n",
      "only showing top 1 row\n",
      "\n"
     ]
    }
   ],
   "source": [
    "agg_cols = [f.sum('won').alias('sum_wins')]\n",
    "selected_column = ['abbreviation']\n",
    "\n",
    "clean.select(col('team'), f.year(col(\"date\")).alias('year'))\\\n",
    "     .filter(col('year')=='2013')\\\n",
    "     .select(col('year'), col('team.abbreviation').alias('abbreviation'), col('team.won').alias('won'))\\\n",
    "     .groupBy(*selected_column)\\\n",
    "     .agg(*agg_cols)\\\n",
    "     .orderBy(col('sum_wins').desc())\\\n",
    "     .show(1)"
   ]
  },
  {
   "cell_type": "markdown",
   "metadata": {},
   "source": [
    "### 5. Ок, теперь немного хардкора :) Постройте ТОП 10 самых эффективных команд\n",
    "**Подсказка**\n",
    "+ Эффективность будем определять следующим образом:\n",
    "  - Если команда забила гол у себя дома - это 1 очко эффективности\n",
    "  - Если команда забила гол не у себя дома - это 2 очка эффективности\n",
    "  - Если команде забили гол (вне зависимости от географии) - то это минус 0.5 очка эффективности\n",
    "  - Если команда еще и выиграла - надо умножить очки эффективности на 1.5\n",
    "  - Если команда проиграла - оставляем очки как есть\n",
    "+ В данной задаче нас интересуют поля \"abbreviation\", \"home\", \"score\", \"won\" внутри структуры \"teams\"\n",
    "+ Не забывайте про оконные функции - они вероятно понадобятся"
   ]
  },
  {
   "cell_type": "code",
   "execution_count": 4,
   "metadata": {
    "collapsed": true
   },
   "outputs": [],
   "source": [
    "from pyspark.sql import Window\n",
    "import pyspark.sql.functions as f\n",
    "\n",
    "window_id = Window.partitionBy('id').orderBy(col('id'), col('won'))\n",
    "#window_fin_score = Window.partitionBy('id').orderBy(col('id'), col('won'))"
   ]
  },
  {
   "cell_type": "code",
   "execution_count": 7,
   "metadata": {},
   "outputs": [
    {
     "name": "stdout",
     "output_type": "stream",
     "text": [
      "+--------------------+------------+---+-----+\n",
      "|                  id|abbreviation|won|score|\n",
      "+--------------------+------------+---+-----+\n",
      "|52f29f91ddbd75540...|         ATL|  0|   91|\n",
      "|52f29f91ddbd75540...|         WSB|  1|  100|\n",
      "|52f29f92ddbd75540...|         CLE|  0|  115|\n",
      "|52f29f92ddbd75540...|         CHI|  1|  116|\n",
      "|52f29f93ddbd75540...|         MIL|  0|  116|\n",
      "|52f29f93ddbd75540...|         DET|  1|  118|\n",
      "|52f29f93ddbd75540...|         GSW|  0|  105|\n",
      "|52f29f93ddbd75540...|         DEN|  1|  119|\n",
      "|52f29f94ddbd75540...|         BOS|  0|  109|\n",
      "|52f29f94ddbd75540...|         NJN|  1|  113|\n",
      "+--------------------+------------+---+-----+\n",
      "only showing top 10 rows\n",
      "\n"
     ]
    }
   ],
   "source": [
    "clean.select(col('id'), col('team.abbreviation'), col('team.won'), col('team.score')).orderBy(col('id'), col('won')).show(10)"
   ]
  },
  {
   "cell_type": "code",
   "execution_count": 25,
   "metadata": {},
   "outputs": [
    {
     "name": "stdout",
     "output_type": "stream",
     "text": [
      "+------------+-------------+\n",
      "|abbreviation|sum_fin_score|\n",
      "+------------+-------------+\n",
      "|         LAL|     314617.0|\n",
      "|         PHO|     307380.5|\n",
      "|         SAS|     299636.0|\n",
      "|         UTA|     295711.5|\n",
      "|         POR|    292325.25|\n",
      "|         HOU|    290862.25|\n",
      "|         BOS|     290334.5|\n",
      "|         DAL|     287633.5|\n",
      "|         CHI|    286030.75|\n",
      "|         IND|     282954.5|\n",
      "+------------+-------------+\n",
      "only showing top 10 rows\n",
      "\n"
     ]
    }
   ],
   "source": [
    "agg_cols = [f.sum('fin_score').alias('sum_fin_score')]\n",
    "window_id = Window.partitionBy('id').orderBy(col('id'), col('won'))\n",
    "\n",
    "\n",
    "clean.select(col('id'), col('team.*'))\\\n",
    "     .select(col('id'), col('abbreviation'), col('home'), when(col('home')==True, 1)\\\n",
    "                                                         .when(col('home')==False, 2)\\\n",
    "                                                         .alias('score_home'), \\\n",
    "             col('score'), col('won'), when(col('won')==0, 1).when(col('won')==1, 1.5).alias('score_won'))\\\n",
    "     .select(col('*'), \n",
    "             when(col('won')==0, f.lead('score').over(window_id).alias('next_line_score'))\n",
    "            .otherwise(f.lag('score').over(window_id).alias('prev_line_score')).alias('opponent_score'))\\\n",
    "     .select(col('*'), ((col('score_home')*col('score')-0.5*col('opponent_score'))*col('score_won')).alias('fin_score'))\\\n",
    "     .groupBy('abbreviation').agg(*agg_cols)\\\n",
    "     .orderBy(col('sum_fin_score').desc())\\\n",
    "     .show(10)"
   ]
  }
 ],
 "metadata": {
  "kernelspec": {
   "display_name": "Python 3",
   "language": "python",
   "name": "python3"
  },
  "language_info": {
   "codemirror_mode": {
    "name": "ipython",
    "version": 3
   },
   "file_extension": ".py",
   "mimetype": "text/x-python",
   "name": "python",
   "nbconvert_exporter": "python",
   "pygments_lexer": "ipython3",
   "version": "3.7.1"
  }
 },
 "nbformat": 4,
 "nbformat_minor": 2
}
