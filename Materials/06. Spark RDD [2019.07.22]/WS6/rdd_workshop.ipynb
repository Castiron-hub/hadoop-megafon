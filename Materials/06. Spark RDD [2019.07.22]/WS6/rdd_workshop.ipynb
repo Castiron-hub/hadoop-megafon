{
 "cells": [
  {
   "cell_type": "markdown",
   "metadata": {},
   "source": [
    "## Создайте RDD из файла на HDFS\n",
    "Файл расположен на HDFS по пути hdfs://user/atitov/data1.json"
   ]
  },
  {
   "cell_type": "code",
   "execution_count": 9,
   "metadata": {},
   "outputs": [],
   "source": [
    "rdd = sc.textFile(\"hdfs:///user/atitov/data1.json\")"
   ]
  },
  {
   "cell_type": "markdown",
   "metadata": {},
   "source": [
    "## Получите список всех ключей"
   ]
  },
  {
   "cell_type": "code",
   "execution_count": 2,
   "metadata": {},
   "outputs": [
    {
     "name": "stdout",
     "output_type": "stream",
     "text": [
      "['name', 'country', 'continent', 'population']\n"
     ]
    }
   ],
   "source": [
    "import json\n",
    "\n",
    "def parse_json(data):\n",
    "    try:\n",
    "        parsed = json.loads(data)\n",
    "    except json.decoder.JSONDecodeError:\n",
    "        parsed = {}\n",
    "    return parsed\n",
    "\n",
    "keys = rdd.flatMap(lambda x: parse_json(x).keys()).distinct().collect()\n",
    "print(keys)"
   ]
  },
  {
   "cell_type": "markdown",
   "metadata": {},
   "source": [
    "## Исключите дубликаты из RDD\n",
    "Дубликатом считаются записи с одинаковыми значениями полей name и country"
   ]
  },
  {
   "cell_type": "code",
   "execution_count": 3,
   "metadata": {},
   "outputs": [
    {
     "data": {
      "text/plain": [
       "[{'name': 'Moscow',\n",
       "  'country': 'Russia',\n",
       "  'continent': 'Europe',\n",
       "  'population': 12380664},\n",
       " {'name': 'Madrid', 'country': 'Spain'},\n",
       " {'name': 'Berlin',\n",
       "  'country': 'Germany',\n",
       "  'continent': 'Europe',\n",
       "  'population': 3490105},\n",
       " {'name': 'Cairo',\n",
       "  'country': 'Egypt',\n",
       "  'continent': 'Africa',\n",
       "  'population': 11922948},\n",
       " {},\n",
       " {'name': 'Paris',\n",
       "  'country': 'France',\n",
       "  'continent': 'Europe',\n",
       "  'population': 2196936},\n",
       " {'name': 'Barselona', 'country': 'Spain', 'continent': 'Europe'}]"
      ]
     },
     "execution_count": 3,
     "metadata": {},
     "output_type": "execute_result"
    }
   ],
   "source": [
    "unique = rdd\\\n",
    "    .map(lambda x: parse_json(x))\\\n",
    "    .map(lambda x: ((x.get('name'), x.get('country')), x))\\\n",
    "    .reduceByKey(lambda x,y: x)\\\n",
    "    .map(lambda x: x[1])\n",
    "\n",
    "unique.collect()"
   ]
  },
  {
   "cell_type": "markdown",
   "metadata": {},
   "source": [
    "## Удалите нулевые элементы"
   ]
  },
  {
   "cell_type": "code",
   "execution_count": 4,
   "metadata": {},
   "outputs": [
    {
     "data": {
      "text/plain": [
       "[{'name': 'Moscow',\n",
       "  'country': 'Russia',\n",
       "  'continent': 'Europe',\n",
       "  'population': 12380664},\n",
       " {'name': 'Madrid', 'country': 'Spain'},\n",
       " {'name': 'Berlin',\n",
       "  'country': 'Germany',\n",
       "  'continent': 'Europe',\n",
       "  'population': 3490105},\n",
       " {'name': 'Cairo',\n",
       "  'country': 'Egypt',\n",
       "  'continent': 'Africa',\n",
       "  'population': 11922948},\n",
       " {'name': 'Paris',\n",
       "  'country': 'France',\n",
       "  'continent': 'Europe',\n",
       "  'population': 2196936},\n",
       " {'name': 'Barselona', 'country': 'Spain', 'continent': 'Europe'}]"
      ]
     },
     "execution_count": 4,
     "metadata": {},
     "output_type": "execute_result"
    }
   ],
   "source": [
    "valuable = unique.filter(lambda x: x)\n",
    "valuable.collect()"
   ]
  },
  {
   "cell_type": "markdown",
   "metadata": {},
   "source": [
    "## Найдите город с самым большим населением"
   ]
  },
  {
   "cell_type": "code",
   "execution_count": 5,
   "metadata": {},
   "outputs": [
    {
     "name": "stdout",
     "output_type": "stream",
     "text": [
      "Moscow\n"
     ]
    }
   ],
   "source": [
    "max_population = valuable.max(key=lambda x: x.get('population', 0))\n",
    "print(max_population['name'])"
   ]
  },
  {
   "cell_type": "markdown",
   "metadata": {},
   "source": [
    "## Посчитайте топ-2 континентов по населению"
   ]
  },
  {
   "cell_type": "code",
   "execution_count": 6,
   "metadata": {},
   "outputs": [
    {
     "name": "stdout",
     "output_type": "stream",
     "text": [
      "[('Europe', 18067705), ('Africa', 11922948)]\n"
     ]
    }
   ],
   "source": [
    "max_continent_pop = \\\n",
    "    valuable\\\n",
    "        .map(lambda x: (x.get('continent', 'Earth'), x.get('population', 0)))\\\n",
    "        .reduceByKey(lambda x,y: x + y)\\\n",
    "        .sortByKey(ascending=False, keyfunc=lambda x: x[1]).take(2)\n",
    "    \n",
    "print(max_continent_pop)"
   ]
  },
  {
   "cell_type": "markdown",
   "metadata": {},
   "source": [
    "## Добавьте к каждой записи новое поле\n",
    "Имя поля - populous. Значение - true, если континент является первым в топ-2 списке и false - в остальных случаях"
   ]
  },
  {
   "cell_type": "code",
   "execution_count": 7,
   "metadata": {},
   "outputs": [
    {
     "data": {
      "text/plain": [
       "[{'name': 'Moscow',\n",
       "  'country': 'Russia',\n",
       "  'continent': 'Europe',\n",
       "  'population': 12380664,\n",
       "  'populous': True},\n",
       " {'name': 'Madrid', 'country': 'Spain', 'populous': False},\n",
       " {'name': 'Berlin',\n",
       "  'country': 'Germany',\n",
       "  'continent': 'Europe',\n",
       "  'population': 3490105,\n",
       "  'populous': True},\n",
       " {'name': 'Cairo',\n",
       "  'country': 'Egypt',\n",
       "  'continent': 'Africa',\n",
       "  'population': 11922948,\n",
       "  'populous': False},\n",
       " {'name': 'Paris',\n",
       "  'country': 'France',\n",
       "  'continent': 'Europe',\n",
       "  'population': 2196936,\n",
       "  'populous': True},\n",
       " {'name': 'Barselona',\n",
       "  'country': 'Spain',\n",
       "  'continent': 'Europe',\n",
       "  'populous': True}]"
      ]
     },
     "execution_count": 7,
     "metadata": {},
     "output_type": "execute_result"
    }
   ],
   "source": [
    "populous_bc = sc.broadcast(max_continent_pop[0][0])\n",
    "\n",
    "def add_key(d, k, v):\n",
    "    d[k] = v\n",
    "    return d\n",
    "\n",
    "valuable.map(lambda x: add_key(x, 'populous', x.get('continent') == populous_bc.value)).collect()"
   ]
  },
  {
   "cell_type": "markdown",
   "metadata": {},
   "source": [
    "## Измените партиционирование RDD по значению поля continent"
   ]
  },
  {
   "cell_type": "code",
   "execution_count": 8,
   "metadata": {},
   "outputs": [
    {
     "data": {
      "text/plain": [
       "[[{'name': 'Madrid', 'country': 'Spain'}],\n",
       " [{'name': 'Cairo',\n",
       "   'country': 'Egypt',\n",
       "   'continent': 'Africa',\n",
       "   'population': 11922948},\n",
       "  {'name': 'Moscow',\n",
       "   'country': 'Russia',\n",
       "   'continent': 'Europe',\n",
       "   'population': 12380664},\n",
       "  {'name': 'Berlin',\n",
       "   'country': 'Germany',\n",
       "   'continent': 'Europe',\n",
       "   'population': 3490105},\n",
       "  {'name': 'Paris',\n",
       "   'country': 'France',\n",
       "   'continent': 'Europe',\n",
       "   'population': 2196936},\n",
       "  {'name': 'Barselona', 'country': 'Spain', 'continent': 'Europe'}],\n",
       " []]"
      ]
     },
     "execution_count": 8,
     "metadata": {},
     "output_type": "execute_result"
    }
   ],
   "source": [
    "import mmh3\n",
    "\n",
    "def new_partitioner(key):\n",
    "    return mmh3.hash(key)\n",
    "\n",
    "valuable\\\n",
    "    .map(lambda x: (x.get('continent', 'Earth'), x))\\\n",
    "    .repartitionAndSortWithinPartitions(3, new_partitioner, True)\\\n",
    "    .map(lambda x: x[1])\\\n",
    "    .glom().collect()\n"
   ]
  },
  {
   "cell_type": "code",
   "execution_count": null,
   "metadata": {},
   "outputs": [],
   "source": []
  }
 ],
 "metadata": {
  "kernelspec": {
   "display_name": "Python 3",
   "language": "python",
   "name": "python3"
  },
  "language_info": {
   "codemirror_mode": {
    "name": "ipython",
    "version": 3
   },
   "file_extension": ".py",
   "mimetype": "text/x-python",
   "name": "python",
   "nbconvert_exporter": "python",
   "pygments_lexer": "ipython3",
   "version": "3.7.4"
  }
 },
 "nbformat": 4,
 "nbformat_minor": 2
}
