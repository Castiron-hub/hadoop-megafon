{
 "cells": [
  {
   "cell_type": "code",
   "execution_count": 1,
   "metadata": {},
   "outputs": [
    {
     "data": {
      "text/html": [
       "\n",
       "        <div>\n",
       "            <p><b>SparkContext</b></p>\n",
       "\n",
       "            <p><a href=\"http://virtual-client.bigdatateam.ru:10605\">Spark UI</a></p>\n",
       "\n",
       "            <dl>\n",
       "              <dt>Version</dt>\n",
       "                <dd><code>v2.3.0.cloudera2</code></dd>\n",
       "              <dt>Master</dt>\n",
       "                <dd><code>yarn</code></dd>\n",
       "              <dt>AppName</dt>\n",
       "                <dd><code>PySparkShell</code></dd>\n",
       "            </dl>\n",
       "        </div>\n",
       "        "
      ],
      "text/plain": [
       "<SparkContext master=yarn appName=PySparkShell>"
      ]
     },
     "execution_count": 1,
     "metadata": {},
     "output_type": "execute_result"
    }
   ],
   "source": [
    "sc"
   ]
  },
  {
   "cell_type": "markdown",
   "metadata": {},
   "source": [
    "## 1. Создайте RDD из файла на HDFS"
   ]
  },
  {
   "cell_type": "code",
   "execution_count": 1,
   "metadata": {},
   "outputs": [],
   "source": [
    "file_rdd = sc.textFile(\"/user/atitov/data1.json\")"
   ]
  },
  {
   "cell_type": "code",
   "execution_count": 2,
   "metadata": {},
   "outputs": [
    {
     "data": {
      "text/plain": [
       "[u'{ \"name\":\"Moscow\", \"country\":\"Russia\", \"continent\": \"Europe\", \"population\": 12380664}',\n",
       " u'{ \"name\":\"Madrid\", \"country\":\"Spain\" }']"
      ]
     },
     "execution_count": 2,
     "metadata": {},
     "output_type": "execute_result"
    }
   ],
   "source": [
    "file_rdd.take(2)"
   ]
  },
  {
   "cell_type": "code",
   "execution_count": 3,
   "metadata": {},
   "outputs": [],
   "source": [
    "import json"
   ]
  },
  {
   "cell_type": "markdown",
   "metadata": {},
   "source": [
    "## 2. Получите список всех ключей"
   ]
  },
  {
   "cell_type": "code",
   "execution_count": 4,
   "metadata": {},
   "outputs": [],
   "source": [
    "def get_json(x):\n",
    "    try:\n",
    "        return json.loads(x)\n",
    "    except:\n",
    "        return {}"
   ]
  },
  {
   "cell_type": "code",
   "execution_count": 5,
   "metadata": {},
   "outputs": [],
   "source": [
    "distinct_keys = file_rdd.flatMap(lambda x: get_json(x).keys()).distinct().collect()"
   ]
  },
  {
   "cell_type": "code",
   "execution_count": 6,
   "metadata": {},
   "outputs": [
    {
     "data": {
      "text/plain": [
       "[u'country', u'population', u'continent', u'name']"
      ]
     },
     "execution_count": 6,
     "metadata": {},
     "output_type": "execute_result"
    }
   ],
   "source": [
    "distinct_keys"
   ]
  },
  {
   "cell_type": "markdown",
   "metadata": {},
   "source": [
    "## 3. Исключите дубликаты из RDD"
   ]
  },
  {
   "cell_type": "code",
   "execution_count": 7,
   "metadata": {},
   "outputs": [
    {
     "data": {
      "text/plain": [
       "[{u'continent': u'Europe',\n",
       "  u'country': u'Germany',\n",
       "  u'name': u'Berlin',\n",
       "  u'population': 3490105},\n",
       " {},\n",
       " {u'continent': u'Europe', u'country': u'Spain', u'name': u'Barselona'},\n",
       " {u'continent': u'Africa',\n",
       "  u'country': u'Egypt',\n",
       "  u'name': u'Cairo',\n",
       "  u'population': 11922948},\n",
       " {u'continent': u'Europe',\n",
       "  u'country': u'Russia',\n",
       "  u'name': u'Moscow',\n",
       "  u'population': 12380664},\n",
       " {u'country': u'Spain', u'name': u'Madrid'},\n",
       " {u'continent': u'Europe',\n",
       "  u'country': u'France',\n",
       "  u'name': u'Paris',\n",
       "  u'population': 2196936}]"
      ]
     },
     "execution_count": 7,
     "metadata": {},
     "output_type": "execute_result"
    }
   ],
   "source": [
    "unique = file_rdd.map(lambda x: get_json(x))\\\n",
    "                 .map(lambda x: ((x.get('country'), x.get('name')), x))\\\n",
    "                 #???????????????\n",
    "                 .reduceByKey(lambda x,y: x)\\\n",
    "                 .map(lambda x: x[1])\n",
    "\n",
    "unique.collect()"
   ]
  },
  {
   "cell_type": "code",
   "execution_count": 8,
   "metadata": {},
   "outputs": [
    {
     "data": {
      "text/plain": [
       "[{u'continent': u'Europe',\n",
       "  u'country': u'Germany',\n",
       "  u'name': u'Berlin',\n",
       "  u'population': 3490105},\n",
       " {u'continent': u'Europe', u'country': u'Spain', u'name': u'Barselona'},\n",
       " {u'continent': u'Africa',\n",
       "  u'country': u'Egypt',\n",
       "  u'name': u'Cairo',\n",
       "  u'population': 11922948},\n",
       " {u'continent': u'Europe',\n",
       "  u'country': u'Russia',\n",
       "  u'name': u'Moscow',\n",
       "  u'population': 12380664},\n",
       " {u'country': u'Spain', u'name': u'Madrid'},\n",
       " {u'continent': u'Europe',\n",
       "  u'country': u'France',\n",
       "  u'name': u'Paris',\n",
       "  u'population': 2196936}]"
      ]
     },
     "execution_count": 8,
     "metadata": {},
     "output_type": "execute_result"
    }
   ],
   "source": [
    "#???????????????\n",
    "unique = unique.filter(lambda x: x)\n",
    "\n",
    "unique.collect()"
   ]
  },
  {
   "cell_type": "markdown",
   "metadata": {},
   "source": [
    "## 5. Найдите город с самым большим населением"
   ]
  },
  {
   "cell_type": "code",
   "execution_count": 9,
   "metadata": {},
   "outputs": [
    {
     "data": {
      "text/plain": [
       "u'Moscow'"
      ]
     },
     "execution_count": 9,
     "metadata": {},
     "output_type": "execute_result"
    }
   ],
   "source": [
    "unique.max(lambda x: x.get('population'))['name']"
   ]
  },
  {
   "cell_type": "markdown",
   "metadata": {},
   "source": [
    "## 6. Посчитайте топ-2 континентов по населению"
   ]
  },
  {
   "cell_type": "code",
   "execution_count": 10,
   "metadata": {},
   "outputs": [],
   "source": [
    "top2_continents = unique.map(lambda x: (x.get('continent', 'Earth'), x.get('population', 0)))\\\n",
    "                        .reduceByKey(lambda x, y: x + y)\\\n",
    "                        .sortByKey(ascending=False, keyfunc=lambda x: x[1]).collect()[:2]"
   ]
  },
  {
   "cell_type": "markdown",
   "metadata": {},
   "source": [
    "## 7. Добавьте к каждой записи новое поле"
   ]
  },
  {
   "cell_type": "code",
   "execution_count": 11,
   "metadata": {},
   "outputs": [],
   "source": [
    "#???????????????\n",
    "populous_bc = sc.broadcast(top2_continents[0][0])"
   ]
  },
  {
   "cell_type": "code",
   "execution_count": 12,
   "metadata": {},
   "outputs": [
    {
     "data": {
      "text/plain": [
       "u'Europe'"
      ]
     },
     "execution_count": 12,
     "metadata": {},
     "output_type": "execute_result"
    }
   ],
   "source": [
    "top2_continents[0][0]"
   ]
  },
  {
   "cell_type": "code",
   "execution_count": 56,
   "metadata": {},
   "outputs": [],
   "source": [
    "def add_key(dct, key, value):\n",
    "    dct[key] = value\n",
    "    return dct"
   ]
  },
  {
   "cell_type": "code",
   "execution_count": 57,
   "metadata": {},
   "outputs": [
    {
     "data": {
      "text/plain": [
       "[(u'Europe', 18067705), (u'Africa', 11922948)]"
      ]
     },
     "execution_count": 57,
     "metadata": {},
     "output_type": "execute_result"
    }
   ],
   "source": [
    "top2_continents"
   ]
  },
  {
   "cell_type": "code",
   "execution_count": 64,
   "metadata": {},
   "outputs": [],
   "source": [
    "rdd_with_new_filed = unique\\\n",
    "            .map(lambda x: add_key(x, 'is_popular', x.get('continent', 'Earth') == populous_bc.value))"
   ]
  },
  {
   "cell_type": "code",
   "execution_count": 65,
   "metadata": {
    "scrolled": true
   },
   "outputs": [
    {
     "data": {
      "text/plain": [
       "[{u'continent': u'Europe',\n",
       "  u'country': u'Germany',\n",
       "  'is_popular': True,\n",
       "  u'name': u'Berlin',\n",
       "  u'population': 3490105},\n",
       " {u'continent': u'Europe',\n",
       "  u'country': u'Spain',\n",
       "  'is_popular': True,\n",
       "  u'name': u'Barselona'},\n",
       " {u'continent': u'Africa',\n",
       "  u'country': u'Egypt',\n",
       "  'is_popular': False,\n",
       "  u'name': u'Cairo',\n",
       "  u'population': 11922948},\n",
       " {u'continent': u'Europe',\n",
       "  u'country': u'Russia',\n",
       "  'is_popular': True,\n",
       "  u'name': u'Moscow',\n",
       "  u'population': 12380664},\n",
       " {u'country': u'Spain', 'is_popular': False, u'name': u'Madrid'},\n",
       " {u'continent': u'Europe',\n",
       "  u'country': u'France',\n",
       "  'is_popular': True,\n",
       "  u'name': u'Paris',\n",
       "  u'population': 2196936}]"
      ]
     },
     "execution_count": 65,
     "metadata": {},
     "output_type": "execute_result"
    }
   ],
   "source": [
    "rdd_with_new_filed.take(10)"
   ]
  },
  {
   "cell_type": "markdown",
   "metadata": {},
   "source": [
    "## 8. Измените партиционирование RDD по значению поля continent"
   ]
  },
  {
   "cell_type": "code",
   "execution_count": 66,
   "metadata": {},
   "outputs": [
    {
     "data": {
      "text/plain": [
       "[[],\n",
       " [],\n",
       " [{u'continent': u'Europe',\n",
       "   u'country': u'Germany',\n",
       "   'is_popular': True,\n",
       "   u'name': u'Berlin',\n",
       "   u'population': 3490105},\n",
       "  {u'continent': u'Europe',\n",
       "   u'country': u'Spain',\n",
       "   'is_popular': True,\n",
       "   u'name': u'Barselona'},\n",
       "  {u'continent': u'Europe',\n",
       "   u'country': u'Russia',\n",
       "   'is_popular': True,\n",
       "   u'name': u'Moscow',\n",
       "   u'population': 12380664},\n",
       "  {u'continent': u'Europe',\n",
       "   u'country': u'France',\n",
       "   'is_popular': True,\n",
       "   u'name': u'Paris',\n",
       "   u'population': 2196936}],\n",
       " [{u'country': u'Spain', 'is_popular': False, u'name': u'Madrid'}],\n",
       " [{u'continent': u'Africa',\n",
       "   u'country': u'Egypt',\n",
       "   'is_popular': False,\n",
       "   u'name': u'Cairo',\n",
       "   u'population': 11922948}]]"
      ]
     },
     "execution_count": 66,
     "metadata": {},
     "output_type": "execute_result"
    }
   ],
   "source": [
    "def new_partitioner(key):\n",
    "    return hash(key)\n",
    "\n",
    "rdd_with_new_filed\\\n",
    "    .map(lambda x: (x.get('continent', 'Earth'), x))\\\n",
    "    .repartitionAndSortWithinPartitions(5, new_partitioner, True)\\\n",
    "    .map(lambda x: x[1])\\\n",
    "    .glom()\\\n",
    "    .collect()"
   ]
  },
  {
   "cell_type": "code",
   "execution_count": null,
   "metadata": {},
   "outputs": [],
   "source": []
  }
 ],
 "metadata": {
  "kernelspec": {
   "display_name": "Python 2",
   "language": "python",
   "name": "python2"
  },
  "language_info": {
   "codemirror_mode": {
    "name": "ipython",
    "version": 2
   },
   "file_extension": ".py",
   "mimetype": "text/x-python",
   "name": "python",
   "nbconvert_exporter": "python",
   "pygments_lexer": "ipython2",
   "version": "2.7.6"
  }
 },
 "nbformat": 4,
 "nbformat_minor": 2
}
