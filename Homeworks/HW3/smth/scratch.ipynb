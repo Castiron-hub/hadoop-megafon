{
 "cells": [
  {
   "cell_type": "code",
   "execution_count": 210,
   "metadata": {},
   "outputs": [],
   "source": [
    "import lxml.etree as xml\n",
    "import re\n",
    "import time\n",
    "import sys\n",
    "from bs4 import BeautifulSoup\n",
    "import datetime"
   ]
  },
  {
   "cell_type": "code",
   "execution_count": 297,
   "metadata": {},
   "outputs": [],
   "source": [
    "original = sys.stdout\n",
    "f1 = open('Posts_short.xml','r'); sys.stdin = f1"
   ]
  },
  {
   "cell_type": "code",
   "execution_count": 298,
   "metadata": {},
   "outputs": [
    {
     "name": "stdout",
     "output_type": "stream",
     "text": [
      "2008 \t c# \t 1\n",
      "2008 \t winforms \t 1\n",
      "2008 \t type-conversion \t 1\n",
      "2008 \t decimal \t 1\n",
      "2008 \t opacity \t 1\n",
      "2008 \t html \t 1\n",
      "2008 \t css \t 1\n",
      "2008 \t css3 \t 1\n",
      "2008 \t internet-explorer-7 \t 1\n",
      "2008 \t c# \t 1\n",
      "2008 \t .net \t 1\n",
      "2008 \t datetime \t 1\n",
      "2008 \t c# \t 1\n",
      "2008 \t datetime \t 1\n",
      "2008 \t datediff \t 1\n",
      "2008 \t relative-time-span \t 1\n",
      "2008 \t html \t 1\n",
      "2008 \t browser \t 1\n",
      "2008 \t timezone \t 1\n",
      "2008 \t timezoneoffset \t 1\n",
      "2008 \t .net \t 1\n"
     ]
    }
   ],
   "source": [
    "#Without BeautifulSoup\n",
    "\n",
    "pattern = '(&lt;)|(&gt;)'\n",
    "for line in sys.stdin:\n",
    "    if line.strip().startswith('<row'):\n",
    "        line = line.lower()\n",
    "        line_list = line.split(' ')\n",
    "        tags = [str(x.split('=')[1]).replace('\\\"','') for x in line_list if x.startswith('tags')]\n",
    "        creationdate = [str(x.split('=')[1]).replace('\\\"','') for x in line_list if x.startswith('creationdate')]  \n",
    "        if tags and creationdate:\n",
    "            clean_tags = re.sub(' +',' ',re.sub(pattern, ' ', tags[0])).strip().split(' ')\n",
    "            year = creationdate[0].split('T')[0].split('-')[0]\n",
    "            for tag in clean_tags:\n",
    "                print(year, '\\t', tag, '\\t', 1)"
   ]
  },
  {
   "cell_type": "code",
   "execution_count": null,
   "metadata": {},
   "outputs": [],
   "source": [
    "#With BeautifulSoup\n",
    "\n",
    "\n",
    "# %%time\n",
    "# for line in sys.stdin:\n",
    "#     if line.strip().startswith('<row'):\n",
    "#         soup = BeautifulSoup(line,features='html') \n",
    "#         try: tags = soup.select('row')[0].attrs['tags']\n",
    "#         except: tags = None\n",
    "#         try: creationdate = soup.select('row')[0].attrs['creationdate']\n",
    "#         except: creationdate = None\n",
    "        \n",
    "#         if tags and creationdate:\n",
    "#             clean_tags = [re.sub('[<>]', '', k) for k in tags.split('><')]\n",
    "#             year = creationdate.split('T')[0].split('-')[0]\n",
    "#             for tag in clean_tags:\n",
    "#                 print(year, '\\t', tag, '\\t', 1)"
   ]
  }
 ],
 "metadata": {
  "kernelspec": {
   "display_name": "Python 3",
   "language": "python",
   "name": "python3"
  },
  "language_info": {
   "codemirror_mode": {
    "name": "ipython",
    "version": 3
   },
   "file_extension": ".py",
   "mimetype": "text/x-python",
   "name": "python",
   "nbconvert_exporter": "python",
   "pygments_lexer": "ipython3",
   "version": "3.7.1"
  }
 },
 "nbformat": 4,
 "nbformat_minor": 2
}
