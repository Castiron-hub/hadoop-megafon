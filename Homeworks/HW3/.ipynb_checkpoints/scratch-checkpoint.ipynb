{
 "cells": [
  {
   "cell_type": "code",
   "execution_count": 194,
   "metadata": {},
   "outputs": [],
   "source": [
    "import lxml.etree as xml\n",
    "import re\n",
    "import time\n",
    "import sys\n",
    "from bs4 import BeautifulSoup \n",
    "import datetime"
   ]
  },
  {
   "cell_type": "code",
   "execution_count": 209,
   "metadata": {},
   "outputs": [],
   "source": [
    "original = sys.stdout\n",
    "f1 = open('Posts.xml','r'); sys.stdin = f1"
   ]
  },
  {
   "cell_type": "code",
   "execution_count": 208,
   "metadata": {},
   "outputs": [
    {
     "name": "stdout",
     "output_type": "stream",
     "text": [
      "CPU times: user 1.8 s, sys: 285 ms, total: 2.08 s\n",
      "Wall time: 2.11 s\n"
     ]
    }
   ],
   "source": [
    "%%time\n",
    "for line in sys.stdin:\n",
    "    if line.startswith('  <row'):\n",
    "        \n",
    "        soup = BeautifulSoup(line,'html') \n",
    "        \n",
    "        try: tags = soup.select('row')[0].attrs['tags']\n",
    "        except: tags = None\n",
    "        try: creationdate = soup.select('row')[0].attrs['creationdate']\n",
    "        except: creationdate = None\n",
    "        \n",
    "        if tags and creationdate:\n",
    "            clean_tags = [re.sub('[<>]', '', k) for k in tags.split('><')]\n",
    "            year = creationdate.split('T')[0].split('-')[0]\n",
    "            for tag in clean_tags:\n",
    "                print(year, '\\t', tag, '\\t', 1)"
   ]
  },
  {
   "cell_type": "code",
   "execution_count": null,
   "metadata": {},
   "outputs": [],
   "source": []
  }
 ],
 "metadata": {
  "kernelspec": {
   "display_name": "Python 3",
   "language": "python",
   "name": "python3"
  },
  "language_info": {
   "codemirror_mode": {
    "name": "ipython",
    "version": 3
   },
   "file_extension": ".py",
   "mimetype": "text/x-python",
   "name": "python",
   "nbconvert_exporter": "python",
   "pygments_lexer": "ipython3",
   "version": "3.7.1"
  }
 },
 "nbformat": 4,
 "nbformat_minor": 2
}
