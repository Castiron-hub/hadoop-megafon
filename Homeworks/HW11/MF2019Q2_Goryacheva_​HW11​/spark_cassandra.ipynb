{
 "cells": [
  {
   "cell_type": "code",
   "execution_count": 1,
   "metadata": {
    "collapsed": true
   },
   "outputs": [],
   "source": [
    "from pyspark.sql.types import *\n",
    "from pyspark.sql.functions import *"
   ]
  },
  {
   "cell_type": "markdown",
   "metadata": {},
   "source": [
    "### Task 2"
   ]
  },
  {
   "cell_type": "code",
   "execution_count": 2,
   "metadata": {
    "collapsed": true
   },
   "outputs": [],
   "source": [
    "movie_path = '/data/movielens/movies.csv'"
   ]
  },
  {
   "cell_type": "code",
   "execution_count": 3,
   "metadata": {
    "collapsed": true
   },
   "outputs": [],
   "source": [
    "movie_schema = StructType(fields=[\n",
    "    StructField(\"movieid\", IntegerType()),\n",
    "    StructField(\"title\", StringType()),\n",
    "    StructField(\"genres\", StringType())\n",
    "])"
   ]
  },
  {
   "cell_type": "code",
   "execution_count": 4,
   "metadata": {
    "collapsed": true
   },
   "outputs": [],
   "source": [
    "movies = spark.read.csv(movie_path, schema=movie_schema, header=True)"
   ]
  },
  {
   "cell_type": "code",
   "execution_count": 5,
   "metadata": {
    "collapsed": true
   },
   "outputs": [],
   "source": [
    "movies_upd = movies.withColumn('movieid', trim(col('movieid')))\\\n",
    "                   .withColumn('new_title', trim(expr(\"substring(title, 1, length(title)-6)\")))\\\n",
    "                   .withColumn('year', trim(col('title').substr(-5,4).astype('int')))\\\n",
    "                   .filter(col('genres') != '(no genres listed)')\\\n",
    "                   .withColumn('genres', split(col('genres'), '\\|'))\\\n",
    "                   .select(col('movieid'), \n",
    "                           col('new_title').alias('title'),\n",
    "                           col('year'),\n",
    "                           col('genres'))\\\n",
    "                   .na.drop()"
   ]
  },
  {
   "cell_type": "code",
   "execution_count": 6,
   "metadata": {},
   "outputs": [],
   "source": [
    "movies_upd.write\\\n",
    "          .format('org.apache.spark.sql.cassandra')\\\n",
    "          .mode('append')\\\n",
    "          .options(table='movies', keyspace='mf_goryacheva')\\\n",
    "          .save()"
   ]
  },
  {
   "cell_type": "markdown",
   "metadata": {},
   "source": [
    "### Task 3"
   ]
  },
  {
   "cell_type": "code",
   "execution_count": 7,
   "metadata": {
    "collapsed": true
   },
   "outputs": [],
   "source": [
    "movies_by_genre = movies_upd.select(explode(\"genres\").alias(\"genres\"),\n",
    "                                    col(\"year\"), \n",
    "                                    col(\"movieid\"), \n",
    "                                    col(\"title\"))\\\n",
    "                            .na.drop()"
   ]
  },
  {
   "cell_type": "code",
   "execution_count": 8,
   "metadata": {
    "collapsed": true
   },
   "outputs": [],
   "source": [
    "movies_by_genre.write\\\n",
    "               .format('org.apache.spark.sql.cassandra')\\\n",
    "               .mode('append')\\\n",
    "               .options(table='movies_by_genre', keyspace='mf_goryacheva')\\\n",
    "               .save()"
   ]
  },
  {
   "cell_type": "markdown",
   "metadata": {},
   "source": [
    "### Task 5"
   ]
  },
  {
   "cell_type": "code",
   "execution_count": 9,
   "metadata": {
    "collapsed": true
   },
   "outputs": [],
   "source": [
    "ratings_path = '/data/movielens/ratings.csv'"
   ]
  },
  {
   "cell_type": "code",
   "execution_count": 10,
   "metadata": {
    "collapsed": true
   },
   "outputs": [],
   "source": [
    "ratings_schema = StructType(fields=[\n",
    "    StructField(\"userid\", IntegerType()),\n",
    "    StructField(\"movieid\", IntegerType()),\n",
    "    StructField(\"rating\", FloatType()),\n",
    "    StructField(\"timestamp\", IntegerType())\n",
    "])"
   ]
  },
  {
   "cell_type": "code",
   "execution_count": 11,
   "metadata": {
    "collapsed": true
   },
   "outputs": [],
   "source": [
    "ratings = spark.read.csv(ratings_path, schema=ratings_schema, header=True)"
   ]
  },
  {
   "cell_type": "code",
   "execution_count": 12,
   "metadata": {},
   "outputs": [
    {
     "name": "stdout",
     "output_type": "stream",
     "text": [
      "+------+-------+------+---------+\n",
      "|userid|movieid|rating|timestamp|\n",
      "+------+-------+------+---------+\n",
      "|     1|    122|   2.0|945544824|\n",
      "|     1|    172|   1.0|945544871|\n",
      "|     1|   1221|   5.0|945544788|\n",
      "|     1|   1441|   4.0|945544871|\n",
      "|     1|   1609|   3.0|945544824|\n",
      "+------+-------+------+---------+\n",
      "only showing top 5 rows\n",
      "\n"
     ]
    }
   ],
   "source": [
    "ratings.show(5)"
   ]
  },
  {
   "cell_type": "code",
   "execution_count": 13,
   "metadata": {
    "collapsed": true
   },
   "outputs": [],
   "source": [
    "avg_ratings = ratings.groupBy(\"movieid\")\\\n",
    "                     .agg({'rating':'avg'})\\\n",
    "                     .select(col('movieid').alias('movieid_rnk'), col('avg(rating)').alias('avg_rnk'))"
   ]
  },
  {
   "cell_type": "code",
   "execution_count": 14,
   "metadata": {
    "collapsed": true
   },
   "outputs": [],
   "source": [
    "join_condition = (col(\"movieid\") == col(\"movieid_rnk\"))\n",
    "movies_by_genre_rating = movies_by_genre.join(avg_ratings, join_condition, how='inner')\\\n",
    "                                        .drop('movieid_rnk')"
   ]
  },
  {
   "cell_type": "code",
   "execution_count": 15,
   "metadata": {},
   "outputs": [
    {
     "name": "stdout",
     "output_type": "stream",
     "text": [
      "+------+----+-------+--------------------+------------------+\n",
      "|genres|year|movieid|               title|           avg_rnk|\n",
      "+------+----+-------+--------------------+------------------+\n",
      "|Sci-Fi|1997|   1580|Men in Black (a.k...| 3.567517702204049|\n",
      "|Comedy|1997|   1580|Men in Black (a.k...| 3.567517702204049|\n",
      "|Action|1997|   1580|Men in Black (a.k...| 3.567517702204049|\n",
      "|Sci-Fi|1999|   3175|        Galaxy Quest|3.5880611270296083|\n",
      "|Comedy|1999|   3175|        Galaxy Quest|3.5880611270296083|\n",
      "+------+----+-------+--------------------+------------------+\n",
      "only showing top 5 rows\n",
      "\n"
     ]
    }
   ],
   "source": [
    "movies_by_genre_rating.show(5)"
   ]
  },
  {
   "cell_type": "code",
   "execution_count": 17,
   "metadata": {},
   "outputs": [],
   "source": [
    "movies_by_genre_rating.write\\\n",
    "                      .format('org.apache.spark.sql.cassandra')\\\n",
    "                      .mode('append')\\\n",
    "                      .options(table='movies_by_genre_rating', keyspace='mf_goryacheva')\\\n",
    "                      .save()"
   ]
  }
 ],
 "metadata": {
  "kernelspec": {
   "display_name": "Python 3",
   "language": "python",
   "name": "python3"
  },
  "language_info": {
   "codemirror_mode": {
    "name": "ipython",
    "version": 3
   },
   "file_extension": ".py",
   "mimetype": "text/x-python",
   "name": "python",
   "nbconvert_exporter": "python",
   "pygments_lexer": "ipython3",
   "version": "3.6.3"
  }
 },
 "nbformat": 4,
 "nbformat_minor": 2
}
