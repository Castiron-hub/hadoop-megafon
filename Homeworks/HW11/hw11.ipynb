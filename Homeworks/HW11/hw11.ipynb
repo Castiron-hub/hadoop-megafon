{
 "cells": [
  {
   "cell_type": "markdown",
   "metadata": {},
   "source": [
    "### Task 1"
   ]
  },
  {
   "cell_type": "code",
   "execution_count": 9,
   "metadata": {
    "collapsed": true
   },
   "outputs": [],
   "source": [
    "%%bash\n",
    "cqlsh virtual-node01 -e \\\n",
    "\"CREATE KEYSPACE IF NOT EXISTS mf_goryacheva WITH replication = {'class': 'SimpleStrategy', 'replication_factor': 2};\""
   ]
  },
  {
   "cell_type": "markdown",
   "metadata": {},
   "source": [
    "### Task 2"
   ]
  },
  {
   "cell_type": "code",
   "execution_count": 127,
   "metadata": {
    "collapsed": true
   },
   "outputs": [],
   "source": [
    "%%bash\n",
    "cqlsh virtual-node01 -e \\\n",
    "\"DROP TABLE mf_goryacheva.movies;\""
   ]
  },
  {
   "cell_type": "code",
   "execution_count": 94,
   "metadata": {},
   "outputs": [],
   "source": [
    "%%bash\n",
    "cqlsh virtual-node01 -e \\\n",
    "\"CREATE TABLE mf_goryacheva.movies (\\\n",
    " movieid int,\\\n",
    " title text,\\\n",
    " year int,\\\n",
    " genres set<text>,\\\n",
    " PRIMARY KEY (title, year, movieid)\\\n",
    ");\""
   ]
  },
  {
   "cell_type": "code",
   "execution_count": 85,
   "metadata": {
    "collapsed": true
   },
   "outputs": [],
   "source": [
    "movie_path = '/data/movielens/movies.csv'"
   ]
  },
  {
   "cell_type": "code",
   "execution_count": 86,
   "metadata": {
    "collapsed": true
   },
   "outputs": [],
   "source": [
    "from pyspark.sql.types import *\n",
    "from pyspark.sql.functions import *"
   ]
  },
  {
   "cell_type": "code",
   "execution_count": 87,
   "metadata": {
    "collapsed": true
   },
   "outputs": [],
   "source": [
    "movie_schema = StructType(fields=[\n",
    "    StructField(\"movieid\", IntegerType()),\n",
    "    StructField(\"title\", StringType()),\n",
    "    StructField(\"genres\", StringType())\n",
    "])"
   ]
  },
  {
   "cell_type": "code",
   "execution_count": 88,
   "metadata": {
    "collapsed": true
   },
   "outputs": [],
   "source": [
    "movies = spark.read.csv(movie_path, schema=movie_schema, header=True)"
   ]
  },
  {
   "cell_type": "code",
   "execution_count": 89,
   "metadata": {},
   "outputs": [],
   "source": [
    "movies_upd = movies.withColumn('movieid', trim(col('movieid')))\\\n",
    "                   .withColumn('new_title', trim(expr(\"substring(title, 1, length(title)-6)\")))\\\n",
    "                   .withColumn('year', trim(col('title').substr(-5,4).astype('int')))\\\n",
    "                   .filter(col('genres') != '(no genres listed)')\\\n",
    "                   .withColumn('genres', split(col('genres'), '\\|'))\\\n",
    "                   .select(col('movieid'), \n",
    "                           col('new_title').alias('title'),\n",
    "                           col('year'),\n",
    "                           col('genres'))\\\n",
    "                   .na.drop()"
   ]
  },
  {
   "cell_type": "code",
   "execution_count": 95,
   "metadata": {},
   "outputs": [],
   "source": [
    "movies_upd.write\\\n",
    "          .format('org.apache.spark.sql.cassandra')\\\n",
    "          .mode('append')\\\n",
    "          .options(table='movies', keyspace='mf_goryacheva')\\\n",
    "          .save()"
   ]
  },
  {
   "cell_type": "code",
   "execution_count": 96,
   "metadata": {},
   "outputs": [
    {
     "name": "stdout",
     "output_type": "stream",
     "text": [
      "\n",
      " count\n",
      "-------\n",
      " 37754\n",
      "\n",
      "(1 rows)\n",
      "\n",
      "Warnings :\n",
      "Aggregation query used without partition key\n",
      "\n"
     ]
    }
   ],
   "source": [
    "%%bash\n",
    "cqlsh virtual-node01 -e \\\n",
    "\"SELECT count(1) FROM mf_goryacheva.movies;\""
   ]
  },
  {
   "cell_type": "markdown",
   "metadata": {},
   "source": [
    "### Task 3"
   ]
  },
  {
   "cell_type": "code",
   "execution_count": 126,
   "metadata": {
    "collapsed": true
   },
   "outputs": [],
   "source": [
    "%%bash\n",
    "cqlsh virtual-node01 -e \\\n",
    "\"DROP TABLE mf_goryacheva.movies_by_genre;\""
   ]
  },
  {
   "cell_type": "code",
   "execution_count": 98,
   "metadata": {
    "collapsed": true
   },
   "outputs": [],
   "source": [
    "%%bash\n",
    "cqlsh virtual-node01 -e \\\n",
    "\"CREATE TABLE mf_goryacheva.movies_by_genre (genres text, movieid int, year int, title text, PRIMARY KEY (genres, year, movieid));\""
   ]
  },
  {
   "cell_type": "code",
   "execution_count": 99,
   "metadata": {},
   "outputs": [],
   "source": [
    "movies_by_genre = movies_upd.select(explode(\"genres\").alias(\"genres\"),\n",
    "                                    col(\"year\"), \n",
    "                                    col(\"movieid\"), \n",
    "                                    col(\"title\"))\\\n",
    "                            .na.drop()"
   ]
  },
  {
   "cell_type": "code",
   "execution_count": 100,
   "metadata": {
    "collapsed": true
   },
   "outputs": [],
   "source": [
    "movies_by_genre.write\\\n",
    "               .format('org.apache.spark.sql.cassandra')\\\n",
    "               .mode('append')\\\n",
    "               .options(table='movies_by_genre', keyspace='mf_goryacheva')\\\n",
    "               .save()"
   ]
  },
  {
   "cell_type": "code",
   "execution_count": 101,
   "metadata": {},
   "outputs": [
    {
     "name": "stdout",
     "output_type": "stream",
     "text": [
      "\n",
      " count\n",
      "-------\n",
      "   560\n",
      "\n",
      "(1 rows)\n"
     ]
    }
   ],
   "source": [
    "%%bash\n",
    "cqlsh virtual-node01 -e \\\n",
    "\"SELECT count(1) \\\n",
    "   FROM mf_goryacheva.movies_by_genre \\\n",
    "  WHERE genres = 'Horror' \\\n",
    "    AND year >= 1980 \\\n",
    "    AND year <= 1990;\""
   ]
  },
  {
   "cell_type": "code",
   "execution_count": null,
   "metadata": {},
   "outputs": [],
   "source": [
    "# movies_by_genre.filter(col('genres')=='Horror')\\\n",
    "#                .filter(col('year')>=1980)\\\n",
    "#                .filter(col('year')<=1990)\\\n",
    "#                .count()"
   ]
  },
  {
   "cell_type": "markdown",
   "metadata": {},
   "source": [
    "### Task 4"
   ]
  },
  {
   "cell_type": "code",
   "execution_count": 102,
   "metadata": {
    "collapsed": true
   },
   "outputs": [],
   "source": [
    "%%bash\n",
    "cqlsh virtual-node01 -e \\\n",
    "\"CREATE INDEX genres_idx ON mf_goryacheva.movies (genres);\""
   ]
  },
  {
   "cell_type": "code",
   "execution_count": 103,
   "metadata": {},
   "outputs": [
    {
     "name": "stdout",
     "output_type": "stream",
     "text": [
      "\n",
      " count\n",
      "-------\n",
      "   560\n",
      "\n",
      "(1 rows)\n",
      "\n",
      "Warnings :\n",
      "Aggregation query used without partition key\n",
      "\n"
     ]
    }
   ],
   "source": [
    "%%bash\n",
    "cqlsh virtual-node01 -e \\\n",
    "\"SELECT count(1) \\\n",
    "   FROM mf_goryacheva.movies \\\n",
    "  WHERE genres CONTAINS 'Horror' \\\n",
    "    AND year >= 1980 \\\n",
    "    AND year <= 1990\\\n",
    "  ALLOW FILTERING;\""
   ]
  },
  {
   "cell_type": "markdown",
   "metadata": {},
   "source": [
    "### Task 5"
   ]
  },
  {
   "cell_type": "code",
   "execution_count": 65,
   "metadata": {
    "collapsed": true
   },
   "outputs": [],
   "source": [
    "ratings_path = '/data/movielens/ratings.csv'"
   ]
  },
  {
   "cell_type": "code",
   "execution_count": 75,
   "metadata": {
    "collapsed": true
   },
   "outputs": [],
   "source": [
    "ratings_schema = StructType(fields=[\n",
    "    StructField(\"userid\", IntegerType()),\n",
    "    StructField(\"movieid\", IntegerType()),\n",
    "    StructField(\"rating\", FloatType()),\n",
    "    StructField(\"timestamp\", IntegerType())\n",
    "])"
   ]
  },
  {
   "cell_type": "code",
   "execution_count": 76,
   "metadata": {
    "collapsed": true
   },
   "outputs": [],
   "source": [
    "ratings = spark.read.csv(ratings_path, schema=ratings_schema, header=True)"
   ]
  },
  {
   "cell_type": "code",
   "execution_count": 77,
   "metadata": {},
   "outputs": [
    {
     "name": "stdout",
     "output_type": "stream",
     "text": [
      "+------+-------+------+---------+\n",
      "|userid|movieid|rating|timestamp|\n",
      "+------+-------+------+---------+\n",
      "|     1|    122|   2.0|945544824|\n",
      "|     1|    172|   1.0|945544871|\n",
      "|     1|   1221|   5.0|945544788|\n",
      "|     1|   1441|   4.0|945544871|\n",
      "|     1|   1609|   3.0|945544824|\n",
      "+------+-------+------+---------+\n",
      "only showing top 5 rows\n",
      "\n"
     ]
    }
   ],
   "source": [
    "ratings.show(5)"
   ]
  },
  {
   "cell_type": "code",
   "execution_count": 106,
   "metadata": {},
   "outputs": [],
   "source": [
    "avg_ratings = ratings.groupBy(\"movieid\")\\\n",
    "                     .agg({'rating':'avg'})\\\n",
    "                     .select(col('movieid').alias('movieid_rnk'), col('avg(rating)').alias('avg_rnk'))"
   ]
  },
  {
   "cell_type": "code",
   "execution_count": 110,
   "metadata": {},
   "outputs": [],
   "source": [
    "join_condition = (col(\"movieid\") == col(\"movieid_rnk\"))\n",
    "movies_by_genre_rating = movies_by_genre.join(avg_ratings, join_condition, how='inner')\\\n",
    "                                        .drop('movieid_rnk')"
   ]
  },
  {
   "cell_type": "code",
   "execution_count": 111,
   "metadata": {},
   "outputs": [
    {
     "name": "stdout",
     "output_type": "stream",
     "text": [
      "+--------+----+-------+--------------------+-----------------+\n",
      "|  genres|year|movieid|               title|          avg_rnk|\n",
      "+--------+----+-------+--------------------+-----------------+\n",
      "| Romance|2004|  33722|  Ladies in Lavender|3.533333333333333|\n",
      "|   Drama|2004|  33722|  Ladies in Lavender|3.533333333333333|\n",
      "|  Comedy|2004|  33722|  Ladies in Lavender|3.533333333333333|\n",
      "|  Comedy|2006|  44022|Ice Age 2: The Me...|3.319560669456067|\n",
      "|Children|2006|  44022|Ice Age 2: The Me...|3.319560669456067|\n",
      "+--------+----+-------+--------------------+-----------------+\n",
      "only showing top 5 rows\n",
      "\n"
     ]
    }
   ],
   "source": [
    "movies_by_genre_rating.show(5)"
   ]
  },
  {
   "cell_type": "code",
   "execution_count": 125,
   "metadata": {
    "collapsed": true
   },
   "outputs": [],
   "source": [
    "%%bash\n",
    "cqlsh virtual-node01 -e \\\n",
    "\"DROP TABLE mf_goryacheva.movies_by_genre_rating;\""
   ]
  },
  {
   "cell_type": "code",
   "execution_count": 112,
   "metadata": {
    "collapsed": true
   },
   "outputs": [],
   "source": [
    "%%bash\n",
    "cqlsh virtual-node01 -e \\\n",
    "\"CREATE TABLE mf_goryacheva.movies_by_genre_rating \\\n",
    "(genres text, \\\n",
    " movieid int, \\\n",
    " year int, \\\n",
    " title text, \\\n",
    " avg_rnk float,\\\n",
    " PRIMARY KEY (genres, year, movieid) \\\n",
    ");\""
   ]
  },
  {
   "cell_type": "code",
   "execution_count": 117,
   "metadata": {
    "collapsed": true
   },
   "outputs": [],
   "source": [
    "movies_by_genre_rating.write\\\n",
    "                      .format('org.apache.spark.sql.cassandra')\\\n",
    "                      .mode('append')\\\n",
    "                      .options(table='movies_by_genre_rating', keyspace='mf_goryacheva')\\\n",
    "                      .save()"
   ]
  },
  {
   "cell_type": "code",
   "execution_count": 120,
   "metadata": {},
   "outputs": [
    {
     "name": "stdout",
     "output_type": "stream",
     "text": [
      "\n",
      " min_rnk | avg_rnk | max_rnk\n",
      "---------+---------+---------\n",
      "     0.5 | 2.78996 |       5\n",
      "\n",
      "(1 rows)\n"
     ]
    }
   ],
   "source": [
    "%%bash\n",
    "cqlsh virtual-node01 -e \\\n",
    "\"SELECT min(avg_rnk) AS min_rnk, avg(avg_rnk) AS avg_rnk, max(avg_rnk) AS max_rnk \\\n",
    "   FROM mf_goryacheva.movies_by_genre_rating \\\n",
    "  WHERE genres = 'Sci-Fi' \\\n",
    "    AND year >= 2000;\n",
    "\""
   ]
  }
 ],
 "metadata": {
  "kernelspec": {
   "display_name": "Python 3",
   "language": "python",
   "name": "python3"
  },
  "language_info": {
   "codemirror_mode": {
    "name": "ipython",
    "version": 3
   },
   "file_extension": ".py",
   "mimetype": "text/x-python",
   "name": "python",
   "nbconvert_exporter": "python",
   "pygments_lexer": "ipython3",
   "version": "3.6.3"
  }
 },
 "nbformat": 4,
 "nbformat_minor": 2
}
